{
  "nbformat": 4,
  "nbformat_minor": 0,
  "metadata": {
    "colab": {
      "name": "maskDetectionModel.ipynb",
      "provenance": []
    },
    "kernelspec": {
      "name": "python3",
      "display_name": "Python 3"
    },
    "accelerator": "GPU"
  },
  "cells": [
    {
      "cell_type": "code",
      "metadata": {
        "id": "pN2AfcSHZJIG"
      },
      "source": [
        "from google.colab import drive\r\n",
        "drive.mount(\"/content/drive/\")"
      ],
      "execution_count": null,
      "outputs": []
    },
    {
      "cell_type": "code",
      "metadata": {
        "id": "aqAZQ3wPYr8k"
      },
      "source": [
        "from keras.models import Sequential\r\n",
        "from keras.layers import Conv2D,BatchNormalization,Dropout\r\n",
        "from keras.layers import Flatten,Dense,MaxPooling2D\r\n",
        "from keras.preprocessing.image import ImageDataGenerator"
      ],
      "execution_count": null,
      "outputs": []
    },
    {
      "cell_type": "code",
      "metadata": {
        "id": "WulCKJ36Zh1a"
      },
      "source": [
        "train_dir='/content/drive/My Drive/data/TRAIN'\r\n",
        "test_dir='/content/drive/My Drive/data/TEST'\r\n",
        "!ls test_dir"
      ],
      "execution_count": null,
      "outputs": []
    },
    {
      "cell_type": "code",
      "metadata": {
        "id": "1EU5dcdhZD70"
      },
      "source": [
        "# defining the model\r\n",
        "model=Sequential()\r\n",
        "\r\n",
        "model.add(Conv2D(32,(3,3),input_shape=(224,224,3),activation='relu',kernel_initializer='he_uniform'))\r\n",
        "model.add(MaxPooling2D(pool_size=(2,2)))\r\n",
        "model.add(Conv2D(64,(3,3),activation='relu',kernel_initializer='he_uniform'))\r\n",
        "model.add(MaxPooling2D(pool_size=(2,2)))\r\n",
        "model.add(BatchNormalization())\r\n",
        "model.add(Dropout(0.3))\r\n",
        "model.add(Conv2D(64,(3,3),activation='relu',kernel_initializer='he_uniform'))\r\n",
        "model.add(MaxPooling2D(pool_size=(2,2)))\r\n",
        "model.add(Conv2D(128,(3,3),activation='relu',kernel_initializer='he_uniform'))\r\n",
        "model.add(MaxPooling2D(pool_size=(2,2)))\r\n",
        "model.add(BatchNormalization())\r\n",
        "model.add(Dropout(0.3))\r\n",
        "model.add(Conv2D(128,(3,3),activation='relu',kernel_initializer='he_uniform'))\r\n",
        "model.add(MaxPooling2D(pool_size=(2,2)))\r\n",
        "model.add(Conv2D(256,(3,3),activation='relu',kernel_initializer='he_uniform'))\r\n",
        "model.add(MaxPooling2D(pool_size=(2,2)))\r\n",
        "model.add(BatchNormalization())\r\n",
        "model.add(Dropout(0.3))\r\n",
        "\r\n",
        "# flatten\r\n",
        "model.add(Flatten())\r\n",
        "# fully connected layers\r\n",
        "model.add(Dense(units=128,activation='relu'))\r\n",
        "model.add(Dense(units=2,activation='softmax'))\r\n",
        "\r\n",
        "# compilation of the model\r\n",
        "model.compile(optimizer='adam',loss='categorical_crossentropy',metrics=['accuracy'])"
      ],
      "execution_count": null,
      "outputs": []
    },
    {
      "cell_type": "code",
      "metadata": {
        "id": "W866O-Q4ZGE0"
      },
      "source": [
        "model.summary()"
      ],
      "execution_count": null,
      "outputs": []
    },
    {
      "cell_type": "code",
      "metadata": {
        "id": "9a8Mo_OtZH76"
      },
      "source": [
        "# fittig the above model to the images\r\n",
        "from keras.preprocessing.image import ImageDataGenerator\r\n",
        "train_datagen = ImageDataGenerator(rescale = 1./255,\r\n",
        "                                   shear_range = 0.2,\r\n",
        "                                   zoom_range = 0.2,\r\n",
        "                                   horizontal_flip = True)\r\n",
        "\r\n",
        "test_datagen = ImageDataGenerator(rescale = 1./255)\r\n",
        "\r\n",
        "training_set = train_datagen.flow_from_directory(train_dir,\r\n",
        "                                                 target_size = (224,224),\r\n",
        "                                                 batch_size = 64,\r\n",
        "                                                 class_mode = 'categorical')\r\n",
        "\r\n",
        "test_set = test_datagen.flow_from_directory(test_dir,\r\n",
        "                                            target_size = (224,224),\r\n",
        "                                            batch_size = 32,\r\n",
        "                                            class_mode = 'categorical')"
      ],
      "execution_count": null,
      "outputs": []
    },
    {
      "cell_type": "code",
      "metadata": {
        "id": "Iypdo9_4Zwpa"
      },
      "source": [
        "hist=model.fit_generator(training_set,steps_per_epoch=156,epochs=50,validation_data=test_set,validation_steps=56)"
      ],
      "execution_count": null,
      "outputs": []
    },
    {
      "cell_type": "code",
      "metadata": {
        "id": "X1eYKYn1Z0Yk"
      },
      "source": [
        "# plotting the figure for accuracy\r\n",
        "plt.figure(figsize=(10,7))\r\n",
        "plt.plot(hist.history['accuracy'])\r\n",
        "plt.plot(hist.history['val_accuracy'])\r\n",
        "plt.title('Model Accuracy')\r\n",
        "plt.ylabel('Accuracy')\r\n",
        "plt.xlabel('Epoch')\r\n",
        "plt.legend(['train', 'val'], loc='lower right')\r\n",
        "plt.show()"
      ],
      "execution_count": null,
      "outputs": []
    },
    {
      "cell_type": "code",
      "metadata": {
        "id": "cCBmsVzZZ6Jj"
      },
      "source": [
        "# plotting the figure for loss\r\n",
        "plt.figure(figsize=(10,7))\r\n",
        "plt.plot(hist.history['loss'])\r\n",
        "plt.plot(hist.history['val_loss'])\r\n",
        "plt.title('Model Loss')\r\n",
        "plt.ylabel('Loss')\r\n",
        "plt.xlabel('Epoch')\r\n",
        "plt.legend(['train', 'val'], loc='upper right')\r\n",
        "plt.show()"
      ],
      "execution_count": null,
      "outputs": []
    }
  ]
}