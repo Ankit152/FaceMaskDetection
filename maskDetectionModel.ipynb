{
  "nbformat": 4,
  "nbformat_minor": 0,
  "metadata": {
    "colab": {
      "name": "maskDetectionModel.ipynb",
      "provenance": []
    },
    "kernelspec": {
      "name": "python3",
      "display_name": "Python 3"
    },
    "accelerator": "GPU"
  },
  "cells": [
    {
      "cell_type": "code",
      "metadata": {
        "id": "pN2AfcSHZJIG",
        "colab": {
          "base_uri": "https://localhost:8080/"
        },
        "outputId": "2ae91b7e-1bae-4c5b-c84e-a41d701b02e1"
      },
      "source": [
        "from google.colab import drive\r\n",
        "drive.mount(\"/content/drive/\")"
      ],
      "execution_count": 1,
      "outputs": [
        {
          "output_type": "stream",
          "text": [
            "Mounted at /content/drive/\n"
          ],
          "name": "stdout"
        }
      ]
    },
    {
      "cell_type": "code",
      "metadata": {
        "id": "aqAZQ3wPYr8k"
      },
      "source": [
        "from keras.models import Sequential\r\n",
        "from keras.layers import Conv2D,BatchNormalization,Dropout\r\n",
        "from keras.layers import Flatten,Dense,MaxPooling2D\r\n",
        "from keras.preprocessing.image import ImageDataGenerator"
      ],
      "execution_count": 2,
      "outputs": []
    },
    {
      "cell_type": "code",
      "metadata": {
        "id": "WulCKJ36Zh1a"
      },
      "source": [
        "train_dir='/content/drive/My Drive/data/Train'\r\n",
        "test_dir='/content/drive/My Drive/data/Test'"
      ],
      "execution_count": 6,
      "outputs": []
    },
    {
      "cell_type": "code",
      "metadata": {
        "id": "1EU5dcdhZD70"
      },
      "source": [
        "# defining the model\r\n",
        "model=Sequential()\r\n",
        "\r\n",
        "model.add(Conv2D(32,(3,3),input_shape=(224,224,3),activation='relu',kernel_initializer='he_uniform'))\r\n",
        "model.add(MaxPooling2D(pool_size=(2,2)))\r\n",
        "model.add(Conv2D(64,(3,3),activation='relu',kernel_initializer='he_uniform'))\r\n",
        "model.add(MaxPooling2D(pool_size=(2,2)))\r\n",
        "model.add(BatchNormalization())\r\n",
        "model.add(Dropout(0.3))\r\n",
        "model.add(Conv2D(64,(3,3),activation='relu',kernel_initializer='he_uniform'))\r\n",
        "model.add(MaxPooling2D(pool_size=(2,2)))\r\n",
        "model.add(Conv2D(128,(3,3),activation='relu',kernel_initializer='he_uniform'))\r\n",
        "model.add(MaxPooling2D(pool_size=(2,2)))\r\n",
        "model.add(BatchNormalization())\r\n",
        "model.add(Dropout(0.3))\r\n",
        "model.add(Conv2D(128,(3,3),activation='relu',kernel_initializer='he_uniform'))\r\n",
        "model.add(MaxPooling2D(pool_size=(2,2)))\r\n",
        "model.add(Conv2D(256,(3,3),activation='relu',kernel_initializer='he_uniform'))\r\n",
        "model.add(MaxPooling2D(pool_size=(2,2)))\r\n",
        "model.add(BatchNormalization())\r\n",
        "model.add(Dropout(0.3))\r\n",
        "\r\n",
        "# flatten\r\n",
        "model.add(Flatten())\r\n",
        "# fully connected layers\r\n",
        "model.add(Dense(units=128,activation='relu'))\r\n",
        "model.add(Dense(units=2,activation='softmax'))\r\n",
        "\r\n",
        "# compilation of the model\r\n",
        "model.compile(optimizer='adam',loss='categorical_crossentropy',metrics=['accuracy'])"
      ],
      "execution_count": 7,
      "outputs": []
    },
    {
      "cell_type": "code",
      "metadata": {
        "id": "W866O-Q4ZGE0",
        "colab": {
          "base_uri": "https://localhost:8080/"
        },
        "outputId": "08e8f6d5-1a7d-4b3a-eeed-c7784b8cfe4d"
      },
      "source": [
        "model.summary()"
      ],
      "execution_count": 8,
      "outputs": [
        {
          "output_type": "stream",
          "text": [
            "Model: \"sequential\"\n",
            "_________________________________________________________________\n",
            "Layer (type)                 Output Shape              Param #   \n",
            "=================================================================\n",
            "conv2d (Conv2D)              (None, 222, 222, 32)      896       \n",
            "_________________________________________________________________\n",
            "max_pooling2d (MaxPooling2D) (None, 111, 111, 32)      0         \n",
            "_________________________________________________________________\n",
            "conv2d_1 (Conv2D)            (None, 109, 109, 64)      18496     \n",
            "_________________________________________________________________\n",
            "max_pooling2d_1 (MaxPooling2 (None, 54, 54, 64)        0         \n",
            "_________________________________________________________________\n",
            "batch_normalization (BatchNo (None, 54, 54, 64)        256       \n",
            "_________________________________________________________________\n",
            "dropout (Dropout)            (None, 54, 54, 64)        0         \n",
            "_________________________________________________________________\n",
            "conv2d_2 (Conv2D)            (None, 52, 52, 64)        36928     \n",
            "_________________________________________________________________\n",
            "max_pooling2d_2 (MaxPooling2 (None, 26, 26, 64)        0         \n",
            "_________________________________________________________________\n",
            "conv2d_3 (Conv2D)            (None, 24, 24, 128)       73856     \n",
            "_________________________________________________________________\n",
            "max_pooling2d_3 (MaxPooling2 (None, 12, 12, 128)       0         \n",
            "_________________________________________________________________\n",
            "batch_normalization_1 (Batch (None, 12, 12, 128)       512       \n",
            "_________________________________________________________________\n",
            "dropout_1 (Dropout)          (None, 12, 12, 128)       0         \n",
            "_________________________________________________________________\n",
            "conv2d_4 (Conv2D)            (None, 10, 10, 128)       147584    \n",
            "_________________________________________________________________\n",
            "max_pooling2d_4 (MaxPooling2 (None, 5, 5, 128)         0         \n",
            "_________________________________________________________________\n",
            "conv2d_5 (Conv2D)            (None, 3, 3, 256)         295168    \n",
            "_________________________________________________________________\n",
            "max_pooling2d_5 (MaxPooling2 (None, 1, 1, 256)         0         \n",
            "_________________________________________________________________\n",
            "batch_normalization_2 (Batch (None, 1, 1, 256)         1024      \n",
            "_________________________________________________________________\n",
            "dropout_2 (Dropout)          (None, 1, 1, 256)         0         \n",
            "_________________________________________________________________\n",
            "flatten (Flatten)            (None, 256)               0         \n",
            "_________________________________________________________________\n",
            "dense (Dense)                (None, 128)               32896     \n",
            "_________________________________________________________________\n",
            "dense_1 (Dense)              (None, 2)                 258       \n",
            "=================================================================\n",
            "Total params: 607,874\n",
            "Trainable params: 606,978\n",
            "Non-trainable params: 896\n",
            "_________________________________________________________________\n"
          ],
          "name": "stdout"
        }
      ]
    },
    {
      "cell_type": "code",
      "metadata": {
        "id": "9a8Mo_OtZH76",
        "colab": {
          "base_uri": "https://localhost:8080/"
        },
        "outputId": "82acc7a6-e422-4bd3-839a-c2e009bbffcf"
      },
      "source": [
        "# fittig the above model to the images\r\n",
        "from keras.preprocessing.image import ImageDataGenerator\r\n",
        "train_datagen = ImageDataGenerator(rescale = 1./255,\r\n",
        "                                   shear_range = 0.2,\r\n",
        "                                   zoom_range = 0.2,\r\n",
        "                                   horizontal_flip = True)\r\n",
        "\r\n",
        "test_datagen = ImageDataGenerator(rescale = 1./255)\r\n",
        "\r\n",
        "training_set = train_datagen.flow_from_directory(train_dir,\r\n",
        "                                                 target_size = (224,224),\r\n",
        "                                                 batch_size = 64,\r\n",
        "                                                 class_mode = 'categorical')\r\n",
        "\r\n",
        "test_set = test_datagen.flow_from_directory(test_dir,\r\n",
        "                                            target_size = (224,224),\r\n",
        "                                            batch_size = 32,\r\n",
        "                                            class_mode = 'categorical')"
      ],
      "execution_count": 9,
      "outputs": [
        {
          "output_type": "stream",
          "text": [
            "Found 9999 images belonging to 2 classes.\n",
            "Found 1792 images belonging to 2 classes.\n"
          ],
          "name": "stdout"
        }
      ]
    },
    {
      "cell_type": "code",
      "metadata": {
        "id": "Iypdo9_4Zwpa",
        "colab": {
          "base_uri": "https://localhost:8080/"
        },
        "outputId": "e8de470e-e545-47ef-e8e8-5ae158175ffb"
      },
      "source": [
        "hist=model.fit_generator(training_set,steps_per_epoch=156,epochs=50,validation_data=test_set,validation_steps=56)"
      ],
      "execution_count": 11,
      "outputs": [
        {
          "output_type": "stream",
          "text": [
            "/usr/local/lib/python3.6/dist-packages/tensorflow/python/keras/engine/training.py:1844: UserWarning: `Model.fit_generator` is deprecated and will be removed in a future version. Please use `Model.fit`, which supports generators.\n",
            "  warnings.warn('`Model.fit_generator` is deprecated and '\n"
          ],
          "name": "stderr"
        },
        {
          "output_type": "stream",
          "text": [
            "Epoch 1/50\n",
            "156/156 [==============================] - 3389s 22s/step - loss: 0.1195 - accuracy: 0.9544 - val_loss: 0.8968 - val_accuracy: 0.6819\n",
            "Epoch 2/50\n",
            "156/156 [==============================] - 115s 737ms/step - loss: 0.0623 - accuracy: 0.9784 - val_loss: 0.0704 - val_accuracy: 0.9738\n",
            "Epoch 3/50\n",
            "156/156 [==============================] - 115s 737ms/step - loss: 0.0512 - accuracy: 0.9821 - val_loss: 0.0735 - val_accuracy: 0.9749\n",
            "Epoch 4/50\n",
            "156/156 [==============================] - 115s 735ms/step - loss: 0.0395 - accuracy: 0.9856 - val_loss: 0.0378 - val_accuracy: 0.9866\n",
            "Epoch 5/50\n",
            "156/156 [==============================] - 115s 734ms/step - loss: 0.0370 - accuracy: 0.9867 - val_loss: 0.0770 - val_accuracy: 0.9715\n",
            "Epoch 6/50\n",
            "156/156 [==============================] - 115s 737ms/step - loss: 0.0302 - accuracy: 0.9892 - val_loss: 0.0266 - val_accuracy: 0.9900\n",
            "Epoch 7/50\n",
            "156/156 [==============================] - 115s 737ms/step - loss: 0.0345 - accuracy: 0.9879 - val_loss: 0.1722 - val_accuracy: 0.9420\n",
            "Epoch 8/50\n",
            "156/156 [==============================] - 116s 745ms/step - loss: 0.0245 - accuracy: 0.9913 - val_loss: 0.0161 - val_accuracy: 0.9933\n",
            "Epoch 9/50\n",
            "156/156 [==============================] - 116s 743ms/step - loss: 0.0246 - accuracy: 0.9913 - val_loss: 0.0347 - val_accuracy: 0.9872\n",
            "Epoch 10/50\n",
            "156/156 [==============================] - 115s 739ms/step - loss: 0.0241 - accuracy: 0.9911 - val_loss: 0.0286 - val_accuracy: 0.9866\n",
            "Epoch 11/50\n",
            "156/156 [==============================] - 116s 742ms/step - loss: 0.0255 - accuracy: 0.9896 - val_loss: 0.1464 - val_accuracy: 0.9325\n",
            "Epoch 12/50\n",
            "156/156 [==============================] - 115s 737ms/step - loss: 0.0248 - accuracy: 0.9912 - val_loss: 0.2031 - val_accuracy: 0.9375\n",
            "Epoch 13/50\n",
            "156/156 [==============================] - 115s 735ms/step - loss: 0.0182 - accuracy: 0.9944 - val_loss: 0.0259 - val_accuracy: 0.9900\n",
            "Epoch 14/50\n",
            "156/156 [==============================] - 115s 737ms/step - loss: 0.0145 - accuracy: 0.9961 - val_loss: 0.0159 - val_accuracy: 0.9950\n",
            "Epoch 15/50\n",
            "156/156 [==============================] - 115s 735ms/step - loss: 0.0126 - accuracy: 0.9958 - val_loss: 0.0701 - val_accuracy: 0.9833\n",
            "Epoch 16/50\n",
            "156/156 [==============================] - 115s 737ms/step - loss: 0.0205 - accuracy: 0.9933 - val_loss: 0.0347 - val_accuracy: 0.9911\n",
            "Epoch 17/50\n",
            "156/156 [==============================] - 115s 735ms/step - loss: 0.0176 - accuracy: 0.9934 - val_loss: 0.0344 - val_accuracy: 0.9916\n",
            "Epoch 18/50\n",
            "156/156 [==============================] - 115s 735ms/step - loss: 0.0114 - accuracy: 0.9961 - val_loss: 0.0315 - val_accuracy: 0.9922\n",
            "Epoch 19/50\n",
            "156/156 [==============================] - 115s 738ms/step - loss: 0.0143 - accuracy: 0.9950 - val_loss: 0.0885 - val_accuracy: 0.9693\n",
            "Epoch 20/50\n",
            "156/156 [==============================] - 115s 735ms/step - loss: 0.0163 - accuracy: 0.9944 - val_loss: 0.0296 - val_accuracy: 0.9905\n",
            "Epoch 21/50\n",
            "156/156 [==============================] - 115s 738ms/step - loss: 0.0155 - accuracy: 0.9946 - val_loss: 0.0229 - val_accuracy: 0.9933\n",
            "Epoch 22/50\n",
            "156/156 [==============================] - 115s 740ms/step - loss: 0.0162 - accuracy: 0.9948 - val_loss: 0.0252 - val_accuracy: 0.9894\n",
            "Epoch 23/50\n",
            "156/156 [==============================] - 115s 737ms/step - loss: 0.0137 - accuracy: 0.9945 - val_loss: 0.0284 - val_accuracy: 0.9900\n",
            "Epoch 24/50\n",
            "156/156 [==============================] - 115s 737ms/step - loss: 0.0137 - accuracy: 0.9949 - val_loss: 0.0451 - val_accuracy: 0.9860\n",
            "Epoch 25/50\n",
            "156/156 [==============================] - 115s 737ms/step - loss: 0.0122 - accuracy: 0.9965 - val_loss: 0.0123 - val_accuracy: 0.9961\n",
            "Epoch 26/50\n",
            "156/156 [==============================] - 115s 736ms/step - loss: 0.0092 - accuracy: 0.9972 - val_loss: 0.0150 - val_accuracy: 0.9961\n",
            "Epoch 27/50\n",
            "156/156 [==============================] - 115s 739ms/step - loss: 0.0119 - accuracy: 0.9958 - val_loss: 0.0455 - val_accuracy: 0.9872\n",
            "Epoch 28/50\n",
            "156/156 [==============================] - 115s 739ms/step - loss: 0.0094 - accuracy: 0.9974 - val_loss: 0.0107 - val_accuracy: 0.9972\n",
            "Epoch 29/50\n",
            "156/156 [==============================] - 115s 735ms/step - loss: 0.0148 - accuracy: 0.9954 - val_loss: 0.0170 - val_accuracy: 0.9950\n",
            "Epoch 30/50\n",
            "156/156 [==============================] - 115s 738ms/step - loss: 0.0123 - accuracy: 0.9962 - val_loss: 1.2134 - val_accuracy: 0.6719\n",
            "Epoch 31/50\n",
            "156/156 [==============================] - 115s 735ms/step - loss: 0.0100 - accuracy: 0.9964 - val_loss: 0.3331 - val_accuracy: 0.9169\n",
            "Epoch 32/50\n",
            "156/156 [==============================] - 115s 735ms/step - loss: 0.0127 - accuracy: 0.9958 - val_loss: 0.0266 - val_accuracy: 0.9939\n",
            "Epoch 33/50\n",
            "156/156 [==============================] - 115s 737ms/step - loss: 0.0118 - accuracy: 0.9957 - val_loss: 0.0183 - val_accuracy: 0.9961\n",
            "Epoch 34/50\n",
            "156/156 [==============================] - 115s 736ms/step - loss: 0.0078 - accuracy: 0.9973 - val_loss: 0.0367 - val_accuracy: 0.9911\n",
            "Epoch 35/50\n",
            "156/156 [==============================] - 116s 742ms/step - loss: 0.0125 - accuracy: 0.9961 - val_loss: 0.0326 - val_accuracy: 0.9888\n",
            "Epoch 36/50\n",
            "156/156 [==============================] - 115s 738ms/step - loss: 0.0081 - accuracy: 0.9975 - val_loss: 0.0144 - val_accuracy: 0.9950\n",
            "Epoch 37/50\n",
            "156/156 [==============================] - 115s 737ms/step - loss: 0.0086 - accuracy: 0.9967 - val_loss: 0.0224 - val_accuracy: 0.9933\n",
            "Epoch 38/50\n",
            "156/156 [==============================] - 116s 740ms/step - loss: 0.0094 - accuracy: 0.9967 - val_loss: 0.0323 - val_accuracy: 0.9905\n",
            "Epoch 39/50\n",
            "156/156 [==============================] - 115s 736ms/step - loss: 0.0122 - accuracy: 0.9953 - val_loss: 0.1607 - val_accuracy: 0.9364\n",
            "Epoch 40/50\n",
            "156/156 [==============================] - 115s 736ms/step - loss: 0.0076 - accuracy: 0.9978 - val_loss: 0.0105 - val_accuracy: 0.9955\n",
            "Epoch 41/50\n",
            "156/156 [==============================] - 116s 740ms/step - loss: 0.0116 - accuracy: 0.9969 - val_loss: 0.1176 - val_accuracy: 0.9676\n",
            "Epoch 42/50\n",
            "156/156 [==============================] - 115s 738ms/step - loss: 0.0112 - accuracy: 0.9963 - val_loss: 0.0561 - val_accuracy: 0.9838\n",
            "Epoch 43/50\n",
            "156/156 [==============================] - 115s 740ms/step - loss: 0.0199 - accuracy: 0.9935 - val_loss: 0.0282 - val_accuracy: 0.9933\n",
            "Epoch 44/50\n",
            "156/156 [==============================] - 115s 737ms/step - loss: 0.0125 - accuracy: 0.9963 - val_loss: 0.0167 - val_accuracy: 0.9955\n",
            "Epoch 45/50\n",
            "156/156 [==============================] - 115s 737ms/step - loss: 0.0103 - accuracy: 0.9964 - val_loss: 0.0123 - val_accuracy: 0.9967\n",
            "Epoch 46/50\n",
            "156/156 [==============================] - 115s 739ms/step - loss: 0.0067 - accuracy: 0.9979 - val_loss: 0.0233 - val_accuracy: 0.9922\n",
            "Epoch 47/50\n",
            "156/156 [==============================] - 115s 737ms/step - loss: 0.0043 - accuracy: 0.9979 - val_loss: 0.0112 - val_accuracy: 0.9972\n",
            "Epoch 48/50\n",
            "156/156 [==============================] - 115s 738ms/step - loss: 0.0050 - accuracy: 0.9983 - val_loss: 0.0141 - val_accuracy: 0.9967\n",
            "Epoch 49/50\n",
            "156/156 [==============================] - 115s 739ms/step - loss: 0.0060 - accuracy: 0.9977 - val_loss: 0.0371 - val_accuracy: 0.9894\n",
            "Epoch 50/50\n",
            "156/156 [==============================] - 115s 736ms/step - loss: 0.0086 - accuracy: 0.9974 - val_loss: 0.0428 - val_accuracy: 0.9877\n"
          ],
          "name": "stdout"
        }
      ]
    },
    {
      "cell_type": "code",
      "metadata": {
        "id": "X1eYKYn1Z0Yk",
        "colab": {
          "base_uri": "https://localhost:8080/",
          "height": 458
        },
        "outputId": "f25aa3f0-9837-46fb-9530-61b2681f768b"
      },
      "source": [
        "# plotting the figure for accuracy\r\n",
        "import matplotlib.pyplot as plt\r\n",
        "plt.figure(figsize=(10,7))\r\n",
        "plt.plot(hist.history['accuracy'])\r\n",
        "plt.plot(hist.history['val_accuracy'])\r\n",
        "plt.title('Model Accuracy')\r\n",
        "plt.ylabel('Accuracy')\r\n",
        "plt.xlabel('Epoch')\r\n",
        "plt.legend(['train', 'val'], loc='lower right')\r\n",
        "plt.show()"
      ],
      "execution_count": 13,
      "outputs": [
        {
          "output_type": "display_data",
          "data": {
            "image/png": "[encoded data removed]",
            "text/plain": [
              "<Figure size 720x504 with 1 Axes>"
            ]
          },
          "metadata": {
            "tags": [],
            "needs_background": "light"
          }
        }
      ]
    },
    {
      "cell_type": "code",
      "metadata": {
        "id": "cCBmsVzZZ6Jj",
        "colab": {
          "base_uri": "https://localhost:8080/",
          "height": 458
        },
        "outputId": "1acdb56d-74c6-41df-9a0b-27144fa70ddd"
      },
      "source": [
        "# plotting the figure for loss\r\n",
        "plt.figure(figsize=(10,7))\r\n",
        "plt.plot(hist.history['loss'])\r\n",
        "plt.plot(hist.history['val_loss'])\r\n",
        "plt.title('Model Loss')\r\n",
        "plt.ylabel('Loss')\r\n",
        "plt.xlabel('Epoch')\r\n",
        "plt.legend(['train', 'val'], loc='upper right')\r\n",
        "plt.show()"
      ],
      "execution_count": 14,
      "outputs": [
        {
          "output_type": "display_data",
          "data": {
            "image/png": "[encoded data removed]",
            "text/plain": [
              "<Figure size 720x504 with 1 Axes>"
            ]
          },
          "metadata": {
            "tags": [],
            "needs_background": "light"
          }
        }
      ]
    },
    {
      "cell_type": "code",
      "metadata": {
        "id": "chMP0rphOGLP"
      },
      "source": [
        "model.save('mask.h5')"
      ],
      "execution_count": 15,
      "outputs": []
    }
  ]
}